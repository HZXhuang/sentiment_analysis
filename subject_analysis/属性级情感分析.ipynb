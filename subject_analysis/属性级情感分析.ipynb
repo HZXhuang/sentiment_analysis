{
 "cells": [
  {
   "cell_type": "code",
   "execution_count": 2,
   "id": "4c1ce9b4",
   "metadata": {},
   "outputs": [
    {
     "name": "stderr",
     "output_type": "stream",
     "text": [
      "D:\\env\\anaconda3\\envs\\pytorch\\lib\\site-packages\\_distutils_hack\\__init__.py:33: UserWarning: Setuptools is replacing distutils.\n",
      "  warnings.warn(\"Setuptools is replacing distutils.\")\n"
     ]
    }
   ],
   "source": [
    "# 导入必要的库\n",
    "import os\n",
    "import paddle\n",
    "import json\n",
    "from paddlenlp import Taskflow\n",
    "from collections import defaultdict\n",
    "# 查看PaddleNLP版本\n",
    "# print(paddlenlp.__version__)"
   ]
  },
  {
   "cell_type": "code",
   "execution_count": 5,
   "id": "fe8066f9",
   "metadata": {},
   "outputs": [
    {
     "name": "stderr",
     "output_type": "stream",
     "text": [
      "\u001b[32m[2023-09-04 23:56:49,738] [    INFO]\u001b[0m - We are using <class 'paddlenlp.transformers.ernie.tokenizer.ErnieTokenizer'> to load '.\\checkpoint\\model_best'.\u001b[0m\n",
      "D:\\env\\anaconda3\\envs\\pytorch\\lib\\site-packages\\paddlenlp\\transformers\\tokenizer_utils_base.py:2481: FutureWarning: The `max_seq_len` argument is deprecated and will be removed in a future version, please use `max_length` instead.\n",
      "  FutureWarning,\n",
      "D:\\env\\anaconda3\\envs\\pytorch\\lib\\site-packages\\paddlenlp\\transformers\\tokenizer_utils_base.py:1884: FutureWarning: The `pad_to_max_length` argument is deprecated and will be removed in a future version, use `padding=True` or `padding='longest'` to pad to the longest sequence in the batch, or use `padding='max_length'` to pad to a max length. In this case, you can give a specific length with `max_length` (e.g. `max_length=45`) or leave max_length to None to pad to the maximal input size of the model (e.g. 512 for Bert).\n",
      "  FutureWarning,\n"
     ]
    },
    {
     "data": {
      "text/plain": [
       "[{'评价维度': [{'text': '特效',\n",
       "    'start': 5,\n",
       "    'end': 7,\n",
       "    'probability': 0.9981206265744618,\n",
       "    'relations': {'观点词': [{'text': '非常好',\n",
       "       'start': 7,\n",
       "       'end': 10,\n",
       "       'probability': 0.9037809932659293}],\n",
       "     '情感倾向[积极,消极,中立]': [{'text': '积极', 'probability': 0.9998376426356259}]}}]}]"
      ]
     },
     "execution_count": 5,
     "metadata": {},
     "output_type": "execute_result"
    }
   ],
   "source": [
    "\n",
    "# 使用训练后的模型进行预测\n",
    "schema = [{'评价维度': ['观点词', '情感倾向[积极,消极,中立]']}]\n",
    "senta = Taskflow(\"sentiment_analysis\", model='uie-senta-base', \n",
    "                 schema=schema, task_path='.\\\\checkpoint\\\\model_best')\n",
    "senta(\"这部电影的特效非常好\")"
   ]
  },
  {
   "cell_type": "markdown",
   "id": "02c2af5c",
   "metadata": {},
   "source": [
    "### 对所有的评论进行属性和观点提取"
   ]
  },
  {
   "cell_type": "code",
   "execution_count": 35,
   "id": "579a5db2",
   "metadata": {},
   "outputs": [
    {
     "data": {
      "text/html": [
       "<div>\n",
       "<style scoped>\n",
       "    .dataframe tbody tr th:only-of-type {\n",
       "        vertical-align: middle;\n",
       "    }\n",
       "\n",
       "    .dataframe tbody tr th {\n",
       "        vertical-align: top;\n",
       "    }\n",
       "\n",
       "    .dataframe thead th {\n",
       "        text-align: right;\n",
       "    }\n",
       "</style>\n",
       "<table border=\"1\" class=\"dataframe\">\n",
       "  <thead>\n",
       "    <tr style=\"text-align: right;\">\n",
       "      <th></th>\n",
       "      <th>评论</th>\n",
       "    </tr>\n",
       "  </thead>\n",
       "  <tbody>\n",
       "    <tr>\n",
       "      <th>0</th>\n",
       "      <td>的声音</td>\n",
       "    </tr>\n",
       "    <tr>\n",
       "      <th>1</th>\n",
       "      <td>“那是不可能的”我的意思是，他不可能复制自己，而且已经复制了很多次了</td>\n",
       "    </tr>\n",
       "    <tr>\n",
       "      <th>2</th>\n",
       "      <td>请制作第十一部分。</td>\n",
       "    </tr>\n",
       "    <tr>\n",
       "      <th>3</th>\n",
       "      <td>偏头痛的魔咒终于回来了</td>\n",
       "    </tr>\n",
       "    <tr>\n",
       "      <th>4</th>\n",
       "      <td>2:40我喜欢这个</td>\n",
       "    </tr>\n",
       "    <tr>\n",
       "      <th>...</th>\n",
       "      <td>...</td>\n",
       "    </tr>\n",
       "    <tr>\n",
       "      <th>5638</th>\n",
       "      <td>\"It's a drag</td>\n",
       "    </tr>\n",
       "    <tr>\n",
       "      <th>5639</th>\n",
       "      <td>\"While its nearly three hour running time is a...</td>\n",
       "    </tr>\n",
       "    <tr>\n",
       "      <th>5640</th>\n",
       "      <td>\"It is this combination of maximalism</td>\n",
       "    </tr>\n",
       "    <tr>\n",
       "      <th>5641</th>\n",
       "      <td>这是多年来任何一部美国大片，我相信大多数负面评论只是中国版“洗白”的一个分支。英雄和决策者都...</td>\n",
       "    </tr>\n",
       "    <tr>\n",
       "      <th>5642</th>\n",
       "      <td>如果你喜欢《太空清扫者》，那么你也会喜欢这部。它更严肃，但如果你有一个开放的心态，它是令人愉...</td>\n",
       "    </tr>\n",
       "  </tbody>\n",
       "</table>\n",
       "<p>5643 rows × 1 columns</p>\n",
       "</div>"
      ],
      "text/plain": [
       "                                                     评论\n",
       "0                                                   的声音\n",
       "1                    “那是不可能的”我的意思是，他不可能复制自己，而且已经复制了很多次了\n",
       "2                                             请制作第十一部分。\n",
       "3                                           偏头痛的魔咒终于回来了\n",
       "4                                             2:40我喜欢这个\n",
       "...                                                 ...\n",
       "5638                                       \"It's a drag\n",
       "5639  \"While its nearly three hour running time is a...\n",
       "5640              \"It is this combination of maximalism\n",
       "5641  这是多年来任何一部美国大片，我相信大多数负面评论只是中国版“洗白”的一个分支。英雄和决策者都...\n",
       "5642  如果你喜欢《太空清扫者》，那么你也会喜欢这部。它更严肃，但如果你有一个开放的心态，它是令人愉...\n",
       "\n",
       "[5643 rows x 1 columns]"
      ]
     },
     "execution_count": 35,
     "metadata": {},
     "output_type": "execute_result"
    }
   ],
   "source": [
    "import pandas as pd\n",
    "comments = pd.read_csv('./data/评论数据.txt', encoding='utf-8', names=['评论'], quoting=3)\n",
    "comments"
   ]
  },
  {
   "cell_type": "code",
   "execution_count": 54,
   "id": "f8fdec36",
   "metadata": {},
   "outputs": [],
   "source": [
    "# 提取属性词和观点词，并进行拼接\n",
    "def extract_prop_and_op(text, predict):\n",
    "    results = predict(text)[0]\n",
    "    if results.get('评价维度') is None:\n",
    "        return []\n",
    "    results = results['评价维度']\n",
    "    prop_op_lst = []\n",
    "    for res in results:\n",
    "        prop = res['text']\n",
    "        if res.get('relations') is None or res.get('relations').get('观点词') is None:\n",
    "            continue\n",
    "        relations = res['relations']['观点词']\n",
    "        for (idx, relation) in enumerate(relations):\n",
    "            if idx == 0:\n",
    "                prop += ': '\n",
    "            else:\n",
    "                prop += ';'\n",
    "            prop += relation['text']\n",
    "            \n",
    "        prop_op_lst.append(prop)\n",
    "    return prop_op_lst"
   ]
  },
  {
   "cell_type": "code",
   "execution_count": 55,
   "id": "37f87e5d",
   "metadata": {},
   "outputs": [
    {
     "name": "stdout",
     "output_type": "stream",
     "text": [
      "                            opinion\n",
      "0                        偏头痛的魔咒: 回来\n",
      "1                            这个: 喜欢\n",
      "2                           集: 间隔多久\n",
      "3                        《西游记》: 懒得读\n",
      "4                         视频质量: 刚刚好\n",
      "...                             ...\n",
      "3778  It: combination of maximalism\n",
      "3779                         电影: 优秀\n",
      "3780                      这部电影: 很有趣\n",
      "3781                《流感》和《怪物》: 排名第一\n",
      "3782                     特效: 简直令人惊叹\n",
      "\n",
      "[3783 rows x 1 columns]\n"
     ]
    }
   ],
   "source": [
    "# 使用训练的模型提取评论的属性词和观点词\n",
    "# extract_prop_and_op(\"房间很大，很舒服\", senta)\n",
    "subject_lst = []\n",
    "for comment in comments['评论']:\n",
    "    subject_lst.extend(extract_prop_and_op(comment, senta))\n",
    "res_dat = pd.DataFrame(data=subject_lst, columns=['opinion'])\n",
    "print(res_dat)\n"
   ]
  },
  {
   "cell_type": "code",
   "execution_count": 56,
   "id": "80dc25f9",
   "metadata": {},
   "outputs": [],
   "source": [
    "# 将结果保存到文件\n",
    "res_dat.to_csv('./data/评价观点抽取.csv', encoding='utf-8', index=None)"
   ]
  },
  {
   "cell_type": "code",
   "execution_count": 51,
   "id": "6c25fe41",
   "metadata": {},
   "outputs": [
    {
     "data": {
      "text/plain": [
       "[1, 2, 4]"
      ]
     },
     "execution_count": 51,
     "metadata": {},
     "output_type": "execute_result"
    }
   ],
   "source": [
    "x = [1,2,4]\n",
    "x.extend([])\n",
    "x"
   ]
  },
  {
   "cell_type": "code",
   "execution_count": 69,
   "id": "9b6a7242",
   "metadata": {},
   "outputs": [],
   "source": [
    "# 去除重复值\n",
    "import csv\n",
    "res_dat2 = pd.DataFrame(data=res_dat['opinion'].drop_duplicates().apply(lambda x: x.replace(',', ';')), columns=['opinion'])\n",
    "res_dat2.to_csv('./data/评价观点抽取.csv', encoding='utf-8', index=None)"
   ]
  },
  {
   "cell_type": "code",
   "execution_count": 70,
   "id": "3a00d0d2",
   "metadata": {},
   "outputs": [
    {
     "name": "stdout",
     "output_type": "stream",
     "text": [
      "<bound method DataFrame.info of                             opinion\n",
      "0                        偏头痛的魔咒: 回来\n",
      "1                            这个: 喜欢\n",
      "2                           集: 间隔多久\n",
      "3                        《西游记》: 懒得读\n",
      "4                         视频质量: 刚刚好\n",
      "...                             ...\n",
      "3777    action: Entertaining enough\n",
      "3778  It: combination of maximalism\n",
      "3780                      这部电影: 很有趣\n",
      "3781                《流感》和《怪物》: 排名第一\n",
      "3782                     特效: 简直令人惊叹\n",
      "\n",
      "[3426 rows x 1 columns]>\n"
     ]
    }
   ],
   "source": [
    "res_dat2.head(20)\n",
    "print(res_dat2.info)"
   ]
  },
  {
   "cell_type": "code",
   "execution_count": null,
   "id": "6120fae5",
   "metadata": {},
   "outputs": [],
   "source": []
  }
 ],
 "metadata": {
  "kernelspec": {
   "display_name": "Python 3 (ipykernel)",
   "language": "python",
   "name": "python3"
  },
  "language_info": {
   "codemirror_mode": {
    "name": "ipython",
    "version": 3
   },
   "file_extension": ".py",
   "mimetype": "text/x-python",
   "name": "python",
   "nbconvert_exporter": "python",
   "pygments_lexer": "ipython3",
   "version": "3.7.13"
  }
 },
 "nbformat": 4,
 "nbformat_minor": 5
}
